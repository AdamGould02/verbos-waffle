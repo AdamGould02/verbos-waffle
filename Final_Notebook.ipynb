{
 "cells": [
  {
   "cell_type": "markdown",
   "metadata": {},
   "source": [
    "Introduction: We were tasked with finding the best neighborhood in Pittsburgh. One of the main things we took into consideration for\n",
    "our metric was would I want to live there? We did this by taking some of the things we think makes a good neighborhood and finding the data on the WPRDC."
   ]
  },
  {
   "cell_type": "markdown",
   "metadata": {},
   "source": [
    "Metric: As stated above our metric is would we want to live there. Some of the things we considered include crime, pot holes, and toxic release. We also looked at \n",
    "houses for some data, but the WPRDC did not include any location or neighborhoods in their data set so we would not use it. "
   ]
  },
  {
   "cell_type": "markdown",
   "metadata": {},
   "source": [
    "The Best Neighborhood: Esplen. After compairing our data sets and seeing which neighborhoods ranked the best from our own data, we have decided that \n",
    "Esplen is the best neighborhood in Pittsburgh. They came a tie for 3rd in crime with only 3 crimes in the past 30 days. They came in 9th with only 110 potholes. They\n",
    "came in a tie for 1st with only 1 location."
   ]
  },
  {
   "cell_type": "markdown",
   "metadata": {},
   "source": [
    "Conclusion:\n",
    "* Crime data - This conclusion is different from the one chosen from my crime data. My crime data had a tie for the best neighborhood between Ridgemont and Regent Square. These two neighborhoods both only had 2 reported crimes in the past 30 days. Esplen was also in a tie for 3rd with 4 other neighborhoods, so there could have been a bunch of different outcomes depending on what the data said for my partners.\n",
    "\n",
    "* Pot Hole - My conclusion I originally received from the 311 is not the same as the group conclusion. Esplen was 9th in terms of the number of potholes with 110, but still had significantly less than some other neighborhoods. In terms of those that performed better, there were only 6 with under 100 potholes, showing how close the numbers were.\n",
    "\n",
    "* Toxic Release - My conclusion is not more focused on rankings but more of the neighborhood within Pittsburgh with only 1 Toxic Release Inventory Facility. After being changed to coordinates and then mapped, Esplen, West End, Troy Hill, Larimer, and Lower Laurenceville were the neighborhoods in Pittsburgh with only one facility. The outcome of which neighborhood was best would then be determined by my partners data and what they had found, and if it correlated with my data."
   ]
  },
  {
   "cell_type": "code",
   "execution_count": null,
   "metadata": {},
   "outputs": [],
   "source": []
  }
 ],
 "metadata": {
  "kernelspec": {
   "display_name": "Python 3",
   "language": "python",
   "name": "python3"
  },
  "language_info": {
   "codemirror_mode": {
    "name": "ipython",
    "version": 3
   },
   "file_extension": ".py",
   "mimetype": "text/x-python",
   "name": "python",
   "nbconvert_exporter": "python",
   "pygments_lexer": "ipython3",
   "version": "3.8.3"
  }
 },
 "nbformat": 4,
 "nbformat_minor": 4
}
