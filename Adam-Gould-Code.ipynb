{
 "cells": [
  {
   "cell_type": "code",
   "execution_count": 2,
   "metadata": {},
   "outputs": [],
   "source": [
    "import pandas as pd\n",
    "import numpy as np\n",
    "%matplotlib inline\n",
    "import matplotlib.pyplot as plt\n"
   ]
  },
  {
   "cell_type": "code",
   "execution_count": 6,
   "metadata": {},
   "outputs": [
    {
     "data": {
      "image/png": "[encoded data removed]",
      "text/plain": [
       "<Figure size 432x288 with 1 Axes>"
      ]
     },
     "metadata": {
      "needs_background": "light"
     },
     "output_type": "display_data"
    }
   ],
   "source": [
    "crime = pd.read_csv(\"CRIME_DATA.csv\")\n",
    "\n",
    "pd.set_option(\"display.max_rows\", None)\n",
    "\n",
    "\n",
    "\n",
    "df = pd.DataFrame({'Neighborhoods':['Central Business District', 'South Side Flats', 'Carrick', 'East Liberty', 'Homewood North',\n",
    "                                   'Mount Washington', 'Sheraden', 'Brighton Heights', 'Brookline', 'Homewood South', 'Beechview',\n",
    "                                   'Knoixville', 'East Allegheny', 'Bluff', 'Polish Hill ', 'South Oakland  ', 'Oakwood ', 'Arlington Heights', 'Friendship', 'Fairywood', 'Spring Garden',\n",
    "                                   'Allegheny West', 'Swisshelm Park', 'Mount Oliver', 'Hays', 'Esplen', 'Chartiers City', 'Summer HIll', 'Glen Hazel', 'Mount Olive Boro', 'Ridgemont', 'Regent Square'], \n",
    "                                   'Crime':[202, 134, 116, 89, 84, 76, 69, 69, 69, 63, 62, 61, 60, 60, 10, 10, 10, 8, 8, 8, 7, 6, 6, 5, 4, 3, 3, 3, 3, 3, 2, 2, ]})\n",
    "ax = df.plot.bar(x ='Neighborhoods', y ='Crime', rot = 90)\n",
    "\n",
    "\n",
    "\n",
    "\n",
    "\n",
    "\n",
    "\n",
    "\n",
    "\n"
   ]
  },
  {
   "cell_type": "code",
   "execution_count": 5,
   "metadata": {},
   "outputs": [
    {
     "data": {
      "text/plain": [
       "Central Business District    202\n",
       "South Side Flats             134\n",
       "Carrick                      116\n",
       "East Liberty                  89\n",
       "Homewood North                84\n",
       "Mount Washington              76\n",
       "Sheraden                      69\n",
       "Brighton Heights              69\n",
       "Brookline                     69\n",
       "Homewood South                63\n",
       "Beechview                     62\n",
       "Knoxville                     61\n",
       "East Allegheny                60\n",
       "Bluff                         60\n",
       "Bloomfield                    59\n",
       "East Hills                    58\n",
       "Hazelwood                     58\n",
       "Marshall-Shadeland            57\n",
       "Lincoln-Lemington-Belmar      55\n",
       "Squirrel Hill South           54\n",
       "Shadyside                     54\n",
       "Perry South                   51\n",
       "Squirrel Hill North           47\n",
       "Crafton Heights               47\n",
       "Crawford-Roberts              47\n",
       "Central Oakland               43\n",
       "Garfield                      43\n",
       "Allentown                     42\n",
       "South Side Slopes             40\n",
       "Larimer                       40\n",
       "Middle Hill                   38\n",
       "Greenfield                    33\n",
       "Bedford Dwellings             33\n",
       "Central Lawrenceville         31\n",
       "Strip District                31\n",
       "North Oakland                 31\n",
       "Perry North                   30\n",
       "Chateau                       30\n",
       "Highland Park                 28\n",
       "Central North Side            27\n",
       "Elliott                       26\n",
       "Westwood                      23\n",
       "Allegheny Center              23\n",
       "North Shore                   23\n",
       "West Oakland                  20\n",
       "Homewood West                 20\n",
       "Arlington                     20\n",
       "Overbrook                     20\n",
       "Point Breeze North            20\n",
       "Upper Hill                    20\n",
       "Lower Lawrenceville           19\n",
       "Point Breeze                  19\n",
       "Bon Air                       18\n",
       "Northview Heights             18\n",
       "Manchester                    18\n",
       "Banksville                    18\n",
       "Stanton Heights               17\n",
       "Beltzhoover                   16\n",
       "Upper Lawrenceville           16\n",
       "Lincoln Place                 16\n",
       "Troy Hill                     16\n",
       "Spring Hill-City View         15\n",
       "Morningside                   15\n",
       "California-Kirkbride          14\n",
       "Fineview                      13\n",
       "West End                      13\n",
       "South Shore                   13\n",
       "Terrace Village               12\n",
       "Duquesne Heights              12\n",
       "Windgap                       12\n",
       "Polish Hill                   10\n",
       "South Oakland                 10\n",
       "Oakwood                       10\n",
       "Outside State                 10\n",
       "Outside City                   9\n",
       "Arlington Heights              8\n",
       "Friendship                     8\n",
       "Fairywood                      8\n",
       "Spring Garden                  7\n",
       "Allegheny West                 6\n",
       "Swisshelm Park                 6\n",
       "Mount Oliver                   5\n",
       "Hays                           4\n",
       "Esplen                         3\n",
       "Mt. Oliver Boro                3\n",
       "Chartiers City                 3\n",
       "Summer Hill                    3\n",
       "Glen Hazel                     3\n",
       "Ridgemont                      2\n",
       "Regent Square                  2\n",
       "Outside County                 2\n",
       "Name: INCIDENTNEIGHBORHOOD, dtype: int64"
      ]
     },
     "execution_count": 5,
     "metadata": {},
     "output_type": "execute_result"
    }
   ],
   "source": [
    "crime[\"INCIDENTNEIGHBORHOOD\"].value_counts()\n"
   ]
  },
  {
   "cell_type": "code",
   "execution_count": null,
   "metadata": {},
   "outputs": [],
   "source": []
  }
 ],
 "metadata": {
  "kernelspec": {
   "display_name": "Python 3",
   "language": "python",
   "name": "python3"
  },
  "language_info": {
   "codemirror_mode": {
    "name": "ipython",
    "version": 3
   },
   "file_extension": ".py",
   "mimetype": "text/x-python",
   "name": "python",
   "nbconvert_exporter": "python",
   "pygments_lexer": "ipython3",
   "version": "3.8.3"
  }
 },
 "nbformat": 4,
 "nbformat_minor": 4
}
